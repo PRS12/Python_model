{
 "cells": [
  {
   "cell_type": "code",
   "execution_count": 1,
   "metadata": {},
   "outputs": [],
   "source": [
    "import matplotlib.pyplot as plt\n",
    "import pylab as pl\n",
    "import numpy as np\n",
    "%matplotlib inline\n",
    "import pandas as pd\n",
    "from pandas import DataFrame\n",
    "\n",
    "\n",
    "\n",
    "import sas7bdat\n",
    "from sas7bdat import *\n",
    "foo = SAS7BDAT(r\"D:\\BOOK MY SHOW\\model_base.sas7bdat\")\n",
    "my_df = foo.to_data_frame()\n"
   ]
  },
  {
   "cell_type": "code",
   "execution_count": 2,
   "metadata": {},
   "outputs": [
    {
     "data": {
      "text/html": [
       "<div>\n",
       "<style>\n",
       "    .dataframe thead tr:only-child th {\n",
       "        text-align: right;\n",
       "    }\n",
       "\n",
       "    .dataframe thead th {\n",
       "        text-align: left;\n",
       "    }\n",
       "\n",
       "    .dataframe tbody tr th {\n",
       "        vertical-align: top;\n",
       "    }\n",
       "</style>\n",
       "<table border=\"1\" class=\"dataframe\">\n",
       "  <thead>\n",
       "    <tr style=\"text-align: right;\">\n",
       "      <th></th>\n",
       "      <th>MEMBER_ID</th>\n",
       "      <th>Flag_AC_TV</th>\n",
       "      <th>Premium_customer</th>\n",
       "      <th>Marital_Status</th>\n",
       "      <th>ICICI_CREDIT_FLAG</th>\n",
       "      <th>ICICI_DEBIT_FLAG</th>\n",
       "      <th>MOBI_OXIG_Burn_pnt</th>\n",
       "      <th>MOBI_OXIG_Earn_pnt</th>\n",
       "      <th>MOB</th>\n",
       "      <th>trnx</th>\n",
       "      <th>Visits</th>\n",
       "      <th>Burn_point</th>\n",
       "      <th>Earn_point</th>\n",
       "      <th>ICICI_Spends_MOB</th>\n",
       "      <th>GROCERY_Spends_MOB</th>\n",
       "      <th>APPAREL_Spends_MOB</th>\n",
       "      <th>ENTRTNMNT_Spends_MOB</th>\n",
       "      <th>E_COMMERCE_Spends_MOB</th>\n",
       "      <th>FUEL_Spends_MOB</th>\n",
       "      <th>E_WALLET_Spends_MOB</th>\n",
       "    </tr>\n",
       "  </thead>\n",
       "  <tbody>\n",
       "    <tr>\n",
       "      <th>202142</th>\n",
       "      <td>137361076.0</td>\n",
       "      <td>0.0</td>\n",
       "      <td>0.0</td>\n",
       "      <td>0.0</td>\n",
       "      <td>0.0</td>\n",
       "      <td>0.0</td>\n",
       "      <td>110.0</td>\n",
       "      <td>1.0</td>\n",
       "      <td>4.0</td>\n",
       "      <td>7.0</td>\n",
       "      <td>5.0</td>\n",
       "      <td>110.0</td>\n",
       "      <td>82.0</td>\n",
       "      <td>0.00000</td>\n",
       "      <td>4038.25</td>\n",
       "      <td>0.000</td>\n",
       "      <td>0.0</td>\n",
       "      <td>0.0</td>\n",
       "      <td>0.0</td>\n",
       "      <td>5.0</td>\n",
       "    </tr>\n",
       "    <tr>\n",
       "      <th>93581</th>\n",
       "      <td>62425837.0</td>\n",
       "      <td>0.0</td>\n",
       "      <td>1.0</td>\n",
       "      <td>0.0</td>\n",
       "      <td>0.0</td>\n",
       "      <td>0.0</td>\n",
       "      <td>0.0</td>\n",
       "      <td>0.0</td>\n",
       "      <td>4.0</td>\n",
       "      <td>6.0</td>\n",
       "      <td>5.0</td>\n",
       "      <td>0.0</td>\n",
       "      <td>325.0</td>\n",
       "      <td>0.00000</td>\n",
       "      <td>0.00</td>\n",
       "      <td>5433.235</td>\n",
       "      <td>0.0</td>\n",
       "      <td>0.0</td>\n",
       "      <td>0.0</td>\n",
       "      <td>0.0</td>\n",
       "    </tr>\n",
       "    <tr>\n",
       "      <th>251116</th>\n",
       "      <td>157187703.0</td>\n",
       "      <td>0.0</td>\n",
       "      <td>0.0</td>\n",
       "      <td>0.0</td>\n",
       "      <td>0.0</td>\n",
       "      <td>0.0</td>\n",
       "      <td>0.0</td>\n",
       "      <td>0.0</td>\n",
       "      <td>1.0</td>\n",
       "      <td>2.0</td>\n",
       "      <td>1.0</td>\n",
       "      <td>0.0</td>\n",
       "      <td>92.0</td>\n",
       "      <td>0.00000</td>\n",
       "      <td>7852.00</td>\n",
       "      <td>0.000</td>\n",
       "      <td>0.0</td>\n",
       "      <td>0.0</td>\n",
       "      <td>0.0</td>\n",
       "      <td>0.0</td>\n",
       "    </tr>\n",
       "    <tr>\n",
       "      <th>83929</th>\n",
       "      <td>57367107.0</td>\n",
       "      <td>0.0</td>\n",
       "      <td>0.0</td>\n",
       "      <td>0.0</td>\n",
       "      <td>0.0</td>\n",
       "      <td>0.0</td>\n",
       "      <td>0.0</td>\n",
       "      <td>0.0</td>\n",
       "      <td>2.0</td>\n",
       "      <td>2.0</td>\n",
       "      <td>2.0</td>\n",
       "      <td>0.0</td>\n",
       "      <td>15.0</td>\n",
       "      <td>0.00000</td>\n",
       "      <td>730.25</td>\n",
       "      <td>0.000</td>\n",
       "      <td>0.0</td>\n",
       "      <td>0.0</td>\n",
       "      <td>0.0</td>\n",
       "      <td>0.0</td>\n",
       "    </tr>\n",
       "    <tr>\n",
       "      <th>3839</th>\n",
       "      <td>4096703.0</td>\n",
       "      <td>1.0</td>\n",
       "      <td>0.0</td>\n",
       "      <td>0.0</td>\n",
       "      <td>0.0</td>\n",
       "      <td>1.0</td>\n",
       "      <td>0.0</td>\n",
       "      <td>0.0</td>\n",
       "      <td>23.0</td>\n",
       "      <td>26.0</td>\n",
       "      <td>25.0</td>\n",
       "      <td>0.0</td>\n",
       "      <td>6444.0</td>\n",
       "      <td>27159.42029</td>\n",
       "      <td>0.00</td>\n",
       "      <td>0.000</td>\n",
       "      <td>0.0</td>\n",
       "      <td>0.0</td>\n",
       "      <td>0.0</td>\n",
       "      <td>0.0</td>\n",
       "    </tr>\n",
       "  </tbody>\n",
       "</table>\n",
       "</div>"
      ],
      "text/plain": [
       "          MEMBER_ID  Flag_AC_TV  Premium_customer  Marital_Status  \\\n",
       "202142  137361076.0         0.0               0.0             0.0   \n",
       "93581    62425837.0         0.0               1.0             0.0   \n",
       "251116  157187703.0         0.0               0.0             0.0   \n",
       "83929    57367107.0         0.0               0.0             0.0   \n",
       "3839      4096703.0         1.0               0.0             0.0   \n",
       "\n",
       "        ICICI_CREDIT_FLAG  ICICI_DEBIT_FLAG  MOBI_OXIG_Burn_pnt  \\\n",
       "202142                0.0               0.0               110.0   \n",
       "93581                 0.0               0.0                 0.0   \n",
       "251116                0.0               0.0                 0.0   \n",
       "83929                 0.0               0.0                 0.0   \n",
       "3839                  0.0               1.0                 0.0   \n",
       "\n",
       "        MOBI_OXIG_Earn_pnt   MOB  trnx  Visits  Burn_point  Earn_point  \\\n",
       "202142                 1.0   4.0   7.0     5.0       110.0        82.0   \n",
       "93581                  0.0   4.0   6.0     5.0         0.0       325.0   \n",
       "251116                 0.0   1.0   2.0     1.0         0.0        92.0   \n",
       "83929                  0.0   2.0   2.0     2.0         0.0        15.0   \n",
       "3839                   0.0  23.0  26.0    25.0         0.0      6444.0   \n",
       "\n",
       "        ICICI_Spends_MOB  GROCERY_Spends_MOB  APPAREL_Spends_MOB  \\\n",
       "202142           0.00000             4038.25               0.000   \n",
       "93581            0.00000                0.00            5433.235   \n",
       "251116           0.00000             7852.00               0.000   \n",
       "83929            0.00000              730.25               0.000   \n",
       "3839         27159.42029                0.00               0.000   \n",
       "\n",
       "        ENTRTNMNT_Spends_MOB  E_COMMERCE_Spends_MOB  FUEL_Spends_MOB  \\\n",
       "202142                   0.0                    0.0              0.0   \n",
       "93581                    0.0                    0.0              0.0   \n",
       "251116                   0.0                    0.0              0.0   \n",
       "83929                    0.0                    0.0              0.0   \n",
       "3839                     0.0                    0.0              0.0   \n",
       "\n",
       "        E_WALLET_Spends_MOB  \n",
       "202142                  5.0  \n",
       "93581                   0.0  \n",
       "251116                  0.0  \n",
       "83929                   0.0  \n",
       "3839                    0.0  "
      ]
     },
     "execution_count": 2,
     "metadata": {},
     "output_type": "execute_result"
    }
   ],
   "source": [
    "my_df1=my_df.sample(frac=.45)\n",
    "\n",
    "my_df1.head()"
   ]
  },
  {
   "cell_type": "code",
   "execution_count": 3,
   "metadata": {},
   "outputs": [
    {
     "name": "stdout",
     "output_type": "stream",
     "text": [
      "352293 158532\n"
     ]
    },
    {
     "data": {
      "text/html": [
       "<div>\n",
       "<style>\n",
       "    .dataframe thead tr:only-child th {\n",
       "        text-align: right;\n",
       "    }\n",
       "\n",
       "    .dataframe thead th {\n",
       "        text-align: left;\n",
       "    }\n",
       "\n",
       "    .dataframe tbody tr th {\n",
       "        vertical-align: top;\n",
       "    }\n",
       "</style>\n",
       "<table border=\"1\" class=\"dataframe\">\n",
       "  <thead>\n",
       "    <tr style=\"text-align: right;\">\n",
       "      <th></th>\n",
       "      <th>MEMBER_ID</th>\n",
       "      <th>Flag_AC_TV</th>\n",
       "      <th>Premium_customer</th>\n",
       "      <th>Marital_Status</th>\n",
       "      <th>ICICI_CREDIT_FLAG</th>\n",
       "      <th>ICICI_DEBIT_FLAG</th>\n",
       "      <th>MOBI_OXIG_Burn_pnt</th>\n",
       "      <th>MOBI_OXIG_Earn_pnt</th>\n",
       "      <th>MOB</th>\n",
       "      <th>trnx</th>\n",
       "      <th>Visits</th>\n",
       "      <th>Burn_point</th>\n",
       "      <th>Earn_point</th>\n",
       "      <th>ICICI_Spends_MOB</th>\n",
       "      <th>GROCERY_Spends_MOB</th>\n",
       "      <th>APPAREL_Spends_MOB</th>\n",
       "      <th>ENTRTNMNT_Spends_MOB</th>\n",
       "      <th>E_COMMERCE_Spends_MOB</th>\n",
       "      <th>FUEL_Spends_MOB</th>\n",
       "      <th>E_WALLET_Spends_MOB</th>\n",
       "    </tr>\n",
       "  </thead>\n",
       "  <tbody>\n",
       "    <tr>\n",
       "      <th>202142</th>\n",
       "      <td>137361076.0</td>\n",
       "      <td>0.0</td>\n",
       "      <td>0.0</td>\n",
       "      <td>0.0</td>\n",
       "      <td>0.0</td>\n",
       "      <td>0.0</td>\n",
       "      <td>110.0</td>\n",
       "      <td>1.0</td>\n",
       "      <td>4.0</td>\n",
       "      <td>7.0</td>\n",
       "      <td>5.0</td>\n",
       "      <td>110.0</td>\n",
       "      <td>82.0</td>\n",
       "      <td>0.00000</td>\n",
       "      <td>4038.25</td>\n",
       "      <td>0.000</td>\n",
       "      <td>0.0</td>\n",
       "      <td>0.0</td>\n",
       "      <td>0.0</td>\n",
       "      <td>5.0</td>\n",
       "    </tr>\n",
       "    <tr>\n",
       "      <th>93581</th>\n",
       "      <td>62425837.0</td>\n",
       "      <td>0.0</td>\n",
       "      <td>1.0</td>\n",
       "      <td>0.0</td>\n",
       "      <td>0.0</td>\n",
       "      <td>0.0</td>\n",
       "      <td>0.0</td>\n",
       "      <td>0.0</td>\n",
       "      <td>4.0</td>\n",
       "      <td>6.0</td>\n",
       "      <td>5.0</td>\n",
       "      <td>0.0</td>\n",
       "      <td>325.0</td>\n",
       "      <td>0.00000</td>\n",
       "      <td>0.00</td>\n",
       "      <td>5433.235</td>\n",
       "      <td>0.0</td>\n",
       "      <td>0.0</td>\n",
       "      <td>0.0</td>\n",
       "      <td>0.0</td>\n",
       "    </tr>\n",
       "    <tr>\n",
       "      <th>251116</th>\n",
       "      <td>157187703.0</td>\n",
       "      <td>0.0</td>\n",
       "      <td>0.0</td>\n",
       "      <td>0.0</td>\n",
       "      <td>0.0</td>\n",
       "      <td>0.0</td>\n",
       "      <td>0.0</td>\n",
       "      <td>0.0</td>\n",
       "      <td>1.0</td>\n",
       "      <td>2.0</td>\n",
       "      <td>1.0</td>\n",
       "      <td>0.0</td>\n",
       "      <td>92.0</td>\n",
       "      <td>0.00000</td>\n",
       "      <td>7852.00</td>\n",
       "      <td>0.000</td>\n",
       "      <td>0.0</td>\n",
       "      <td>0.0</td>\n",
       "      <td>0.0</td>\n",
       "      <td>0.0</td>\n",
       "    </tr>\n",
       "    <tr>\n",
       "      <th>83929</th>\n",
       "      <td>57367107.0</td>\n",
       "      <td>0.0</td>\n",
       "      <td>0.0</td>\n",
       "      <td>0.0</td>\n",
       "      <td>0.0</td>\n",
       "      <td>0.0</td>\n",
       "      <td>0.0</td>\n",
       "      <td>0.0</td>\n",
       "      <td>2.0</td>\n",
       "      <td>2.0</td>\n",
       "      <td>2.0</td>\n",
       "      <td>0.0</td>\n",
       "      <td>15.0</td>\n",
       "      <td>0.00000</td>\n",
       "      <td>730.25</td>\n",
       "      <td>0.000</td>\n",
       "      <td>0.0</td>\n",
       "      <td>0.0</td>\n",
       "      <td>0.0</td>\n",
       "      <td>0.0</td>\n",
       "    </tr>\n",
       "    <tr>\n",
       "      <th>3839</th>\n",
       "      <td>4096703.0</td>\n",
       "      <td>1.0</td>\n",
       "      <td>0.0</td>\n",
       "      <td>0.0</td>\n",
       "      <td>0.0</td>\n",
       "      <td>1.0</td>\n",
       "      <td>0.0</td>\n",
       "      <td>0.0</td>\n",
       "      <td>23.0</td>\n",
       "      <td>26.0</td>\n",
       "      <td>25.0</td>\n",
       "      <td>0.0</td>\n",
       "      <td>6444.0</td>\n",
       "      <td>27159.42029</td>\n",
       "      <td>0.00</td>\n",
       "      <td>0.000</td>\n",
       "      <td>0.0</td>\n",
       "      <td>0.0</td>\n",
       "      <td>0.0</td>\n",
       "      <td>0.0</td>\n",
       "    </tr>\n",
       "  </tbody>\n",
       "</table>\n",
       "</div>"
      ],
      "text/plain": [
       "          MEMBER_ID  Flag_AC_TV  Premium_customer  Marital_Status  \\\n",
       "202142  137361076.0         0.0               0.0             0.0   \n",
       "93581    62425837.0         0.0               1.0             0.0   \n",
       "251116  157187703.0         0.0               0.0             0.0   \n",
       "83929    57367107.0         0.0               0.0             0.0   \n",
       "3839      4096703.0         1.0               0.0             0.0   \n",
       "\n",
       "        ICICI_CREDIT_FLAG  ICICI_DEBIT_FLAG  MOBI_OXIG_Burn_pnt  \\\n",
       "202142                0.0               0.0               110.0   \n",
       "93581                 0.0               0.0                 0.0   \n",
       "251116                0.0               0.0                 0.0   \n",
       "83929                 0.0               0.0                 0.0   \n",
       "3839                  0.0               1.0                 0.0   \n",
       "\n",
       "        MOBI_OXIG_Earn_pnt   MOB  trnx  Visits  Burn_point  Earn_point  \\\n",
       "202142                 1.0   4.0   7.0     5.0       110.0        82.0   \n",
       "93581                  0.0   4.0   6.0     5.0         0.0       325.0   \n",
       "251116                 0.0   1.0   2.0     1.0         0.0        92.0   \n",
       "83929                  0.0   2.0   2.0     2.0         0.0        15.0   \n",
       "3839                   0.0  23.0  26.0    25.0         0.0      6444.0   \n",
       "\n",
       "        ICICI_Spends_MOB  GROCERY_Spends_MOB  APPAREL_Spends_MOB  \\\n",
       "202142           0.00000             4038.25               0.000   \n",
       "93581            0.00000                0.00            5433.235   \n",
       "251116           0.00000             7852.00               0.000   \n",
       "83929            0.00000              730.25               0.000   \n",
       "3839         27159.42029                0.00               0.000   \n",
       "\n",
       "        ENTRTNMNT_Spends_MOB  E_COMMERCE_Spends_MOB  FUEL_Spends_MOB  \\\n",
       "202142                   0.0                    0.0              0.0   \n",
       "93581                    0.0                    0.0              0.0   \n",
       "251116                   0.0                    0.0              0.0   \n",
       "83929                    0.0                    0.0              0.0   \n",
       "3839                     0.0                    0.0              0.0   \n",
       "\n",
       "        E_WALLET_Spends_MOB  \n",
       "202142                  5.0  \n",
       "93581                   0.0  \n",
       "251116                  0.0  \n",
       "83929                   0.0  \n",
       "3839                    0.0  "
      ]
     },
     "execution_count": 3,
     "metadata": {},
     "output_type": "execute_result"
    }
   ],
   "source": [
    "print(len(my_df), len(my_df1)) \n",
    "\n",
    "my_df1.head()\n"
   ]
  },
  {
   "cell_type": "code",
   "execution_count": 4,
   "metadata": {},
   "outputs": [
    {
     "data": {
      "text/plain": [
       "['MEMBER_ID',\n",
       " 'Flag_AC_TV',\n",
       " 'Premium_customer',\n",
       " 'Marital_Status',\n",
       " 'ICICI_CREDIT_FLAG',\n",
       " 'ICICI_DEBIT_FLAG',\n",
       " 'MOBI_OXIG_Burn_pnt',\n",
       " 'MOBI_OXIG_Earn_pnt',\n",
       " 'MOB',\n",
       " 'trnx',\n",
       " 'Visits',\n",
       " 'Burn_point',\n",
       " 'Earn_point',\n",
       " 'ICICI_Spends_MOB',\n",
       " 'GROCERY_Spends_MOB',\n",
       " 'APPAREL_Spends_MOB',\n",
       " 'ENTRTNMNT_Spends_MOB',\n",
       " 'E_COMMERCE_Spends_MOB',\n",
       " 'FUEL_Spends_MOB',\n",
       " 'E_WALLET_Spends_MOB']"
      ]
     },
     "execution_count": 4,
     "metadata": {},
     "output_type": "execute_result"
    }
   ],
   "source": [
    "list(my_df1)"
   ]
  },
  {
   "cell_type": "code",
   "execution_count": 5,
   "metadata": {},
   "outputs": [
    {
     "data": {
      "text/plain": [
       "array([[  0.00000000e+00,   0.00000000e+00,   0.00000000e+00,\n",
       "          1.10000000e+02,   1.00000000e+00,   4.00000000e+00,\n",
       "          7.00000000e+00,   5.00000000e+00,   1.10000000e+02,\n",
       "          8.20000000e+01,   0.00000000e+00,   4.03825000e+03,\n",
       "          0.00000000e+00,   0.00000000e+00,   0.00000000e+00,\n",
       "          0.00000000e+00,   5.00000000e+00],\n",
       "       [  1.00000000e+00,   0.00000000e+00,   0.00000000e+00,\n",
       "          0.00000000e+00,   0.00000000e+00,   4.00000000e+00,\n",
       "          6.00000000e+00,   5.00000000e+00,   0.00000000e+00,\n",
       "          3.25000000e+02,   0.00000000e+00,   0.00000000e+00,\n",
       "          5.43323500e+03,   0.00000000e+00,   0.00000000e+00,\n",
       "          0.00000000e+00,   0.00000000e+00],\n",
       "       [  0.00000000e+00,   0.00000000e+00,   0.00000000e+00,\n",
       "          0.00000000e+00,   0.00000000e+00,   1.00000000e+00,\n",
       "          2.00000000e+00,   1.00000000e+00,   0.00000000e+00,\n",
       "          9.20000000e+01,   0.00000000e+00,   7.85200000e+03,\n",
       "          0.00000000e+00,   0.00000000e+00,   0.00000000e+00,\n",
       "          0.00000000e+00,   0.00000000e+00],\n",
       "       [  0.00000000e+00,   0.00000000e+00,   0.00000000e+00,\n",
       "          0.00000000e+00,   0.00000000e+00,   2.00000000e+00,\n",
       "          2.00000000e+00,   2.00000000e+00,   0.00000000e+00,\n",
       "          1.50000000e+01,   0.00000000e+00,   7.30250000e+02,\n",
       "          0.00000000e+00,   0.00000000e+00,   0.00000000e+00,\n",
       "          0.00000000e+00,   0.00000000e+00],\n",
       "       [  0.00000000e+00,   0.00000000e+00,   1.00000000e+00,\n",
       "          0.00000000e+00,   0.00000000e+00,   2.30000000e+01,\n",
       "          2.60000000e+01,   2.50000000e+01,   0.00000000e+00,\n",
       "          6.44400000e+03,   2.71594203e+04,   0.00000000e+00,\n",
       "          0.00000000e+00,   0.00000000e+00,   0.00000000e+00,\n",
       "          0.00000000e+00,   0.00000000e+00]])"
      ]
     },
     "execution_count": 5,
     "metadata": {},
     "output_type": "execute_result"
    }
   ],
   "source": [
    "X = np.asarray(my_df1[[ 'Premium_customer',\n",
    " 'ICICI_CREDIT_FLAG',\n",
    " 'ICICI_DEBIT_FLAG',\n",
    " 'MOBI_OXIG_Burn_pnt',\n",
    " 'MOBI_OXIG_Earn_pnt',\n",
    " 'MOB',\n",
    " 'trnx',\n",
    " 'Visits',\n",
    " 'Burn_point',\n",
    " 'Earn_point',\n",
    " 'ICICI_Spends_MOB',\n",
    " 'GROCERY_Spends_MOB',\n",
    " 'APPAREL_Spends_MOB',\n",
    " 'ENTRTNMNT_Spends_MOB',\n",
    " 'E_COMMERCE_Spends_MOB',\n",
    " 'FUEL_Spends_MOB',\n",
    " 'E_WALLET_Spends_MOB'\n",
    "]])\n",
    "X[0:5]"
   ]
  },
  {
   "cell_type": "code",
   "execution_count": 6,
   "metadata": {},
   "outputs": [
    {
     "data": {
      "text/plain": [
       "array([[ 0.],\n",
       "       [ 0.],\n",
       "       [ 0.],\n",
       "       [ 0.],\n",
       "       [ 1.]])"
      ]
     },
     "execution_count": 6,
     "metadata": {},
     "output_type": "execute_result"
    }
   ],
   "source": [
    "Y=np.asarray(my_df1[['Flag_AC_TV']])\n",
    "Y[0:5]"
   ]
  },
  {
   "cell_type": "code",
   "execution_count": 7,
   "metadata": {},
   "outputs": [
    {
     "name": "stdout",
     "output_type": "stream",
     "text": [
      "Train set: (126825, 17) (126825, 1)\n",
      "Test set: (31707, 17) (31707, 1)\n"
     ]
    }
   ],
   "source": [
    "import scipy.optimize as opt\n",
    "from sklearn import preprocessing\n",
    "import scipy.optimize as opt\n",
    "from sklearn import preprocessing\n",
    "from sklearn.model_selection import train_test_split\n",
    "\n",
    "X_train, X_test, y_train, y_test = train_test_split( X, Y, test_size=0.2, random_state=4)\n",
    "print ('Train set:', X_train.shape,  y_train.shape)\n",
    "print ('Test set:', X_test.shape,  y_test.shape)"
   ]
  },
  {
   "cell_type": "code",
   "execution_count": 8,
   "metadata": {},
   "outputs": [
    {
     "name": "stderr",
     "output_type": "stream",
     "text": [
      "C:\\ProgramData\\Anaconda3\\lib\\site-packages\\sklearn\\utils\\validation.py:578: DataConversionWarning: A column-vector y was passed when a 1d array was expected. Please change the shape of y to (n_samples, ), for example using ravel().\n",
      "  y = column_or_1d(y, warn=True)\n"
     ]
    },
    {
     "data": {
      "text/plain": [
       "LogisticRegression(C=0.01, class_weight=None, dual=False, fit_intercept=True,\n",
       "          intercept_scaling=1, max_iter=100, multi_class='ovr', n_jobs=1,\n",
       "          penalty='l2', random_state=None, solver='liblinear', tol=0.0001,\n",
       "          verbose=0, warm_start=False)"
      ]
     },
     "execution_count": 8,
     "metadata": {},
     "output_type": "execute_result"
    }
   ],
   "source": [
    "from sklearn.linear_model import LogisticRegression\n",
    "from sklearn.metrics import confusion_matrix\n",
    "LR = LogisticRegression(C=0.01, solver='liblinear').fit(X_train,y_train)\n",
    "LR"
   ]
  },
  {
   "cell_type": "code",
   "execution_count": 9,
   "metadata": {},
   "outputs": [
    {
     "data": {
      "text/plain": [
       "array([ 0.,  0.,  0., ...,  0.,  0.,  1.])"
      ]
     },
     "execution_count": 9,
     "metadata": {},
     "output_type": "execute_result"
    }
   ],
   "source": [
    "yhat = LR.predict(X_test)\n",
    "yhat"
   ]
  },
  {
   "cell_type": "code",
   "execution_count": 10,
   "metadata": {},
   "outputs": [
    {
     "data": {
      "text/plain": [
       "array([[ 0.91886515,  0.08113485],\n",
       "       [ 0.9335894 ,  0.0664106 ],\n",
       "       [ 0.99669412,  0.00330588],\n",
       "       ..., \n",
       "       [ 0.68052826,  0.31947174],\n",
       "       [ 0.97190161,  0.02809839],\n",
       "       [ 0.10553228,  0.89446772]])"
      ]
     },
     "execution_count": 10,
     "metadata": {},
     "output_type": "execute_result"
    }
   ],
   "source": [
    "yhat_prob = LR.predict_proba(X_test)\n",
    "yhat_prob"
   ]
  },
  {
   "cell_type": "code",
   "execution_count": 11,
   "metadata": {},
   "outputs": [
    {
     "data": {
      "text/plain": [
       "0.89163276248147094"
      ]
     },
     "execution_count": 11,
     "metadata": {},
     "output_type": "execute_result"
    }
   ],
   "source": [
    "from sklearn.metrics import jaccard_similarity_score\n",
    "jaccard_similarity_score(y_test, yhat)"
   ]
  },
  {
   "cell_type": "code",
   "execution_count": 12,
   "metadata": {},
   "outputs": [
    {
     "name": "stdout",
     "output_type": "stream",
     "text": [
      "[[ 4144  2374]\n",
      " [ 1062 24127]]\n"
     ]
    }
   ],
   "source": [
    "from sklearn.metrics import classification_report, confusion_matrix\n",
    "import itertools\n",
    "def plot_confusion_matrix(cm, classes,\n",
    "                          normalize=False,\n",
    "                          title='Confusion matrix',\n",
    "                          cmap=plt.cm.Blues):\n",
    "    \"\"\"\n",
    "    This function prints and plots the confusion matrix.\n",
    "    Normalization can be applied by setting `normalize=True`.\n",
    "    \"\"\"\n",
    "    if normalize:\n",
    "        cm = cm.astype('float') / cm.sum(axis=1)[:, np.newaxis]\n",
    "        print(\"Normalized confusion matrix\")\n",
    "    else:\n",
    "        print('Confusion matrix, without normalization')\n",
    "\n",
    "    print(cm)\n",
    "\n",
    "    plt.imshow(cm, interpolation='nearest', cmap=cmap)\n",
    "    plt.title(title)\n",
    "    plt.colorbar()\n",
    "    tick_marks = np.arange(len(classes))\n",
    "    plt.xticks(tick_marks, classes, rotation=45)\n",
    "    plt.yticks(tick_marks, classes)\n",
    "\n",
    "    fmt = '.2f' if normalize else 'd'\n",
    "    thresh = cm.max() / 2.\n",
    "    for i, j in itertools.product(range(cm.shape[0]), range(cm.shape[1])):\n",
    "        plt.text(j, i, format(cm[i, j], fmt),\n",
    "                 horizontalalignment=\"center\",\n",
    "                 color=\"white\" if cm[i, j] > thresh else \"black\")\n",
    "\n",
    "    plt.tight_layout()\n",
    "    plt.ylabel('True label')\n",
    "    plt.xlabel('Predicted label')\n",
    "print(confusion_matrix(y_test, yhat, labels=[1,0]))"
   ]
  },
  {
   "cell_type": "code",
   "execution_count": 13,
   "metadata": {},
   "outputs": [
    {
     "name": "stdout",
     "output_type": "stream",
     "text": [
      "Confusion matrix, without normalization\n",
      "[[ 4144  2374]\n",
      " [ 1062 24127]]\n"
     ]
    },
    {
     "data": {
      "image/png": "[encoded data removed]",
      "text/plain": [
       "<matplotlib.figure.Figure at 0x29fe438>"
      ]
     },
     "metadata": {},
     "output_type": "display_data"
    }
   ],
   "source": [
    "# Compute confusion matrix\n",
    "cnf_matrix = confusion_matrix(y_test, yhat, labels=[1,0])\n",
    "np.set_printoptions(precision=2)\n",
    "\n",
    "\n",
    "# Plot non-normalized confusion matrix\n",
    "plt.figure()\n",
    "plot_confusion_matrix(cnf_matrix, classes=['Flag_AC_TV=1','Flag_AC_TV=0'],normalize= False,  title='Confusion matrix')"
   ]
  },
  {
   "cell_type": "code",
   "execution_count": null,
   "metadata": {
    "collapsed": true
   },
   "outputs": [],
   "source": []
  }
 ],
 "metadata": {
  "kernelspec": {
   "display_name": "Python 3",
   "language": "python",
   "name": "python3"
  },
  "language_info": {
   "codemirror_mode": {
    "name": "ipython",
    "version": 3
   },
   "file_extension": ".py",
   "mimetype": "text/x-python",
   "name": "python",
   "nbconvert_exporter": "python",
   "pygments_lexer": "ipython3",
   "version": "3.6.3"
  }
 },
 "nbformat": 4,
 "nbformat_minor": 2
}
